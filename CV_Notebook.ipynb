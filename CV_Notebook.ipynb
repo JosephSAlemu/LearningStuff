{
  "nbformat": 4,
  "nbformat_minor": 0,
  "metadata": {
    "colab": {
      "provenance": [],
      "authorship_tag": "ABX9TyOno/C/7g+Yqj8b/uULPOkI"
    },
    "kernelspec": {
      "name": "python3",
      "display_name": "Python 3"
    },
    "language_info": {
      "name": "python"
    }
  },
  "cells": [
    {
      "cell_type": "code",
      "execution_count": 1,
      "metadata": {
        "id": "1RYmaiXVxwSW"
      },
      "outputs": [],
      "source": [
        "import tensorflow as tf"
      ]
    },
    {
      "cell_type": "markdown",
      "source": [
        "###Learning how tensor dimensions work"
      ],
      "metadata": {
        "id": "sIF-zcxX43H4"
      }
    },
    {
      "cell_type": "code",
      "source": [
        "tensor_zero_d = tf.constant([1])\n",
        "print(tensor_zero_d)"
      ],
      "metadata": {
        "colab": {
          "base_uri": "https://localhost:8080/"
        },
        "id": "GJ798X1Zz7FY",
        "outputId": "4906b7d6-6385-4d9f-aa56-2ce9a505f5b9"
      },
      "execution_count": 12,
      "outputs": [
        {
          "output_type": "stream",
          "name": "stdout",
          "text": [
            "tf.Tensor([1], shape=(1,), dtype=int32)\n"
          ]
        }
      ]
    },
    {
      "cell_type": "code",
      "source": [],
      "metadata": {
        "id": "TruwE-lW4_L8"
      },
      "execution_count": null,
      "outputs": []
    },
    {
      "cell_type": "code",
      "source": [
        "tensor_one_d = tf.constant([1,2])\n",
        "print(tensor_one_d)"
      ],
      "metadata": {
        "colab": {
          "base_uri": "https://localhost:8080/"
        },
        "id": "EaNij0Fb2Wut",
        "outputId": "b8ee6583-c076-431c-974c-8cc094a3edc0"
      },
      "execution_count": 14,
      "outputs": [
        {
          "output_type": "stream",
          "name": "stdout",
          "text": [
            "tf.Tensor([1 2], shape=(2,), dtype=int32)\n"
          ]
        }
      ]
    },
    {
      "cell_type": "code",
      "source": [
        "tensor_two_d = tf.constant([\n",
        "  [1,2,3,4],\n",
        "  [5,6,7,8]\n",
        "])\n",
        "print(tensor_two_d)"
      ],
      "metadata": {
        "colab": {
          "base_uri": "https://localhost:8080/"
        },
        "id": "XHBLUwkr2W-d",
        "outputId": "edf6e149-7293-4a07-c744-63efcd16d83e"
      },
      "execution_count": 13,
      "outputs": [
        {
          "output_type": "stream",
          "name": "stdout",
          "text": [
            "tf.Tensor(\n",
            "[[1 2]\n",
            " [3 4]], shape=(2, 2), dtype=int32)\n"
          ]
        }
      ]
    },
    {
      "cell_type": "code",
      "source": [
        "tensor_three_d = tf.constant([\n",
        "    [[1,2,3,4],\n",
        "    [5,6,7,8]],\n",
        "    [[-1,4,-6,0],\n",
        "     [3,1,5,-2]],\n",
        "    [[-2,6,-1,5],\n",
        "     [2,7,8,-9]]\n",
        "])\n",
        "print(tensor_three_d)"
      ],
      "metadata": {
        "colab": {
          "base_uri": "https://localhost:8080/"
        },
        "id": "tBNiswZm2Xvj",
        "outputId": "658df433-cb8e-4718-eb73-e5017ea6c908"
      },
      "execution_count": 17,
      "outputs": [
        {
          "output_type": "stream",
          "name": "stdout",
          "text": [
            "tf.Tensor(\n",
            "[[[ 1  2  3  4]\n",
            "  [ 5  6  7  8]]\n",
            "\n",
            " [[-1  4 -6  0]\n",
            "  [ 3  1  5 -2]]\n",
            "\n",
            " [[-2  6 -1  5]\n",
            "  [ 2  7  8 -9]]], shape=(3, 2, 4), dtype=int32)\n"
          ]
        }
      ]
    },
    {
      "cell_type": "code",
      "source": [
        "tensor_four_d = tf.constant([\n",
        "    [[[1,2,3,4],\n",
        "    [5,6,7,8]],\n",
        "    [[-1,4,-6,0],\n",
        "     [3,1,5,-2]],\n",
        "    [[-2,6,-1,5],\n",
        "     [2,7,8,-9]]],\n",
        "    [[[5,2,4,4],\n",
        "    [1,63,72,8]],\n",
        "    [[-15,41,-64,0],\n",
        "     [3,1,5,-2]],\n",
        "    [[-2,6,-1,5],\n",
        "     [2,7,8,-9]]],\n",
        "\n",
        "\n",
        "])\n",
        "print(tensor_four_d)"
      ],
      "metadata": {
        "colab": {
          "base_uri": "https://localhost:8080/"
        },
        "id": "cz7XzE_s2X8H",
        "outputId": "a1831e1b-15d2-46b1-fdf1-b5a7cb74874f"
      },
      "execution_count": 19,
      "outputs": [
        {
          "output_type": "stream",
          "name": "stdout",
          "text": [
            "tf.Tensor(\n",
            "[[[[ 1  2  3  4]\n",
            "   [ 5  6  7  8]]\n",
            "\n",
            "  [[-1  4 -6  0]\n",
            "   [ 3  1  5 -2]]\n",
            "\n",
            "  [[-2  6 -1  5]\n",
            "   [ 2  7  8 -9]]]\n",
            "\n",
            "\n",
            " [[[ 1  2  3  4]\n",
            "   [ 5  6  7  8]]\n",
            "\n",
            "  [[-1  4 -6  0]\n",
            "   [ 3  1  5 -2]]\n",
            "\n",
            "  [[-2  6 -1  5]\n",
            "   [ 2  7  8 -9]]]], shape=(2, 3, 2, 4), dtype=int32)\n"
          ]
        }
      ]
    },
    {
      "cell_type": "markdown",
      "source": [
        "### Casting Tenors"
      ],
      "metadata": {
        "id": "Blp6Su1q5BHk"
      }
    },
    {
      "cell_type": "code",
      "source": [
        "#Code below errors cause, in some cases, you can't cast without tf.cast\n",
        "#tensor_one_d = tf.constant([2,0.,-5,75], dtype=tf.int16)\n",
        "#How to properly cast\n",
        "tensor_one_d = tf.constant([2,0.,-5,75], dtype=tf.float32)\n",
        "casted_int_tensor = tf.cast(tensor_one_d, dtype = tf.int16)\n",
        "casted_bool_tensor = tf.cast(tensor_one_d, dtype = tf.bool)\n",
        "print(casted_int_tensor)\n",
        "print(casted_bool_tensor)"
      ],
      "metadata": {
        "colab": {
          "base_uri": "https://localhost:8080/"
        },
        "id": "S7n1XqLQ5F_6",
        "outputId": "d870704c-822e-4701-f227-583374569a1f"
      },
      "execution_count": 26,
      "outputs": [
        {
          "output_type": "stream",
          "name": "stdout",
          "text": [
            "tf.Tensor([ 2  0 -5 75], shape=(4,), dtype=int16)\n",
            "tf.Tensor([ True False  True  True], shape=(4,), dtype=bool)\n"
          ]
        }
      ]
    },
    {
      "cell_type": "code",
      "source": [],
      "metadata": {
        "id": "1WivAAfJ5apP"
      },
      "execution_count": null,
      "outputs": []
    }
  ]
}