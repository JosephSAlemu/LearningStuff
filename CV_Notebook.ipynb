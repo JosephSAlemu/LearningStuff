{
  "nbformat": 4,
  "nbformat_minor": 0,
  "metadata": {
    "colab": {
      "provenance": [],
      "authorship_tag": "ABX9TyM4SRReGapWkO5PAyd9fj5R",
      "include_colab_link": true
    },
    "kernelspec": {
      "name": "python3",
      "display_name": "Python 3"
    },
    "language_info": {
      "name": "python"
    }
  },
  "cells": [
    {
      "cell_type": "markdown",
      "metadata": {
        "id": "view-in-github",
        "colab_type": "text"
      },
      "source": [
        "<a href=\"https://colab.research.google.com/github/JosephSAlemu/LearningStuff/blob/Learning-Tensors/CV_Notebook.ipynb\" target=\"_parent\"><img src=\"https://colab.research.google.com/assets/colab-badge.svg\" alt=\"Open In Colab\"/></a>"
      ]
    },
    {
      "cell_type": "code",
      "execution_count": null,
      "metadata": {
        "id": "1RYmaiXVxwSW"
      },
      "outputs": [],
      "source": [
        "import tensorflow as tf"
      ]
    },
    {
      "cell_type": "markdown",
      "source": [
        "###Learning how tensor dimensions work"
      ],
      "metadata": {
        "id": "sIF-zcxX43H4"
      }
    },
    {
      "cell_type": "code",
      "source": [
        "tensor_zero_d = tf.constant([1])\n",
        "print(tensor_zero_d)\n",
        "print(tensor_zero_d.shape)"
      ],
      "metadata": {
        "colab": {
          "base_uri": "https://localhost:8080/"
        },
        "id": "GJ798X1Zz7FY",
        "outputId": "dc229975-b8c7-4aed-e354-900c8a8d8bbd"
      },
      "execution_count": null,
      "outputs": [
        {
          "output_type": "stream",
          "name": "stdout",
          "text": [
            "tf.Tensor([1], shape=(1,), dtype=int32)\n",
            "(1,)\n"
          ]
        }
      ]
    },
    {
      "cell_type": "code",
      "source": [
        "tensor_one_d = tf.constant([1,2])\n",
        "print(tensor_one_d)"
      ],
      "metadata": {
        "colab": {
          "base_uri": "https://localhost:8080/"
        },
        "id": "EaNij0Fb2Wut",
        "outputId": "b8ee6583-c076-431c-974c-8cc094a3edc0"
      },
      "execution_count": null,
      "outputs": [
        {
          "output_type": "stream",
          "name": "stdout",
          "text": [
            "tf.Tensor([1 2], shape=(2,), dtype=int32)\n"
          ]
        }
      ]
    },
    {
      "cell_type": "code",
      "source": [
        "tensor_two_d = tf.constant([\n",
        "  [1,2,3,4],\n",
        "  [5,6,7,8]\n",
        "])\n",
        "print(tensor_two_d)"
      ],
      "metadata": {
        "colab": {
          "base_uri": "https://localhost:8080/"
        },
        "id": "XHBLUwkr2W-d",
        "outputId": "edf6e149-7293-4a07-c744-63efcd16d83e"
      },
      "execution_count": null,
      "outputs": [
        {
          "output_type": "stream",
          "name": "stdout",
          "text": [
            "tf.Tensor(\n",
            "[[1 2]\n",
            " [3 4]], shape=(2, 2), dtype=int32)\n"
          ]
        }
      ]
    },
    {
      "cell_type": "code",
      "source": [
        "tensor_three_d = tf.constant([\n",
        "    [[1,2,3,4],\n",
        "    [5,6,7,8]],\n",
        "    [[-1,4,-6,0],\n",
        "     [3,1,5,-2]],\n",
        "    [[-2,6,-1,5],\n",
        "     [2,7,8,-9]]\n",
        "])\n",
        "print(tensor_three_d)"
      ],
      "metadata": {
        "colab": {
          "base_uri": "https://localhost:8080/"
        },
        "id": "tBNiswZm2Xvj",
        "outputId": "658df433-cb8e-4718-eb73-e5017ea6c908"
      },
      "execution_count": null,
      "outputs": [
        {
          "output_type": "stream",
          "name": "stdout",
          "text": [
            "tf.Tensor(\n",
            "[[[ 1  2  3  4]\n",
            "  [ 5  6  7  8]]\n",
            "\n",
            " [[-1  4 -6  0]\n",
            "  [ 3  1  5 -2]]\n",
            "\n",
            " [[-2  6 -1  5]\n",
            "  [ 2  7  8 -9]]], shape=(3, 2, 4), dtype=int32)\n"
          ]
        }
      ]
    },
    {
      "cell_type": "code",
      "source": [
        "tensor_four_d = tf.constant([\n",
        "    [[[1,2,3,4],\n",
        "    [5,6,7,8]],\n",
        "    [[-1,4,-6,0],\n",
        "     [3,1,5,-2]],\n",
        "    [[-2,6,-1,5],\n",
        "     [2,7,8,-9]]],\n",
        "    [[[5,2,4,4],\n",
        "    [1,63,72,8]],\n",
        "    [[-15,41,-64,0],\n",
        "     [3,1,5,-2]],\n",
        "    [[-2,6,-1,5],\n",
        "     [2,7,8,-9]]],\n",
        "\n",
        "\n",
        "])\n",
        "print(tensor_four_d)"
      ],
      "metadata": {
        "colab": {
          "base_uri": "https://localhost:8080/"
        },
        "id": "cz7XzE_s2X8H",
        "outputId": "a1831e1b-15d2-46b1-fdf1-b5a7cb74874f"
      },
      "execution_count": null,
      "outputs": [
        {
          "output_type": "stream",
          "name": "stdout",
          "text": [
            "tf.Tensor(\n",
            "[[[[ 1  2  3  4]\n",
            "   [ 5  6  7  8]]\n",
            "\n",
            "  [[-1  4 -6  0]\n",
            "   [ 3  1  5 -2]]\n",
            "\n",
            "  [[-2  6 -1  5]\n",
            "   [ 2  7  8 -9]]]\n",
            "\n",
            "\n",
            " [[[ 1  2  3  4]\n",
            "   [ 5  6  7  8]]\n",
            "\n",
            "  [[-1  4 -6  0]\n",
            "   [ 3  1  5 -2]]\n",
            "\n",
            "  [[-2  6 -1  5]\n",
            "   [ 2  7  8 -9]]]], shape=(2, 3, 2, 4), dtype=int32)\n"
          ]
        }
      ]
    },
    {
      "cell_type": "markdown",
      "source": [
        "### Casting Tenors"
      ],
      "metadata": {
        "id": "Blp6Su1q5BHk"
      }
    },
    {
      "cell_type": "code",
      "source": [
        "#Code below errors cause, in some cases, you can't cast without tf.cast\n",
        "#tensor_one_d = tf.constant([2,0.,-5,75], dtype=tf.int16)\n",
        "#How to properly cast\n",
        "tensor_one_d = tf.constant([2,0.,-5,75], dtype=tf.float32)\n",
        "casted_int_tensor = tf.cast(tensor_one_d, dtype = tf.int16)\n",
        "casted_bool_tensor = tf.cast(tensor_one_d, dtype = tf.bool)\n",
        "print(tensor_one_d)\n",
        "print(casted_int_tensor)\n",
        "print(casted_bool_tensor)"
      ],
      "metadata": {
        "colab": {
          "base_uri": "https://localhost:8080/"
        },
        "id": "S7n1XqLQ5F_6",
        "outputId": "8948c7a0-57af-4af8-df10-3fd9c18b46ca"
      },
      "execution_count": null,
      "outputs": [
        {
          "output_type": "stream",
          "name": "stdout",
          "text": [
            "tf.Tensor([ 2.  0. -5. 75.], shape=(4,), dtype=float32)\n",
            "tf.Tensor([ 2  0 -5 75], shape=(4,), dtype=int16)\n",
            "tf.Tensor([ True False  True  True], shape=(4,), dtype=bool)\n"
          ]
        }
      ]
    },
    {
      "cell_type": "markdown",
      "source": [
        "## Numpy"
      ],
      "metadata": {
        "id": "6pQonXoSFNQy"
      }
    },
    {
      "cell_type": "code",
      "source": [
        "import numpy as np"
      ],
      "metadata": {
        "id": "1WivAAfJ5apP"
      },
      "execution_count": null,
      "outputs": []
    },
    {
      "cell_type": "code",
      "source": [
        "np_array = np.array([1,2,4])\n",
        "print(np_array)"
      ],
      "metadata": {
        "colab": {
          "base_uri": "https://localhost:8080/"
        },
        "id": "38fvU0UCFJ5M",
        "outputId": "a25471d7-86ec-43cf-fa40-5fc7803dc99f"
      },
      "execution_count": null,
      "outputs": [
        {
          "output_type": "stream",
          "name": "stdout",
          "text": [
            "[1 2 4]\n"
          ]
        }
      ]
    },
    {
      "cell_type": "code",
      "source": [
        "converted_tensor = tf.convert_to_tensor(np_array)\n",
        "print(converted_tensor)"
      ],
      "metadata": {
        "colab": {
          "base_uri": "https://localhost:8080/"
        },
        "id": "6XIQ0cZSFrIi",
        "outputId": "58a9b832-036b-4148-9e5e-10ce1c9699ec"
      },
      "execution_count": null,
      "outputs": [
        {
          "output_type": "stream",
          "name": "stdout",
          "text": [
            "tf.Tensor([1 2 4], shape=(3,), dtype=int64)\n"
          ]
        }
      ]
    },
    {
      "cell_type": "markdown",
      "source": [
        "## Fills and Shapes"
      ],
      "metadata": {
        "id": "l0RXkECANuzX"
      }
    },
    {
      "cell_type": "code",
      "source": [
        "eye_tensor = tf.eye(\n",
        "    num_rows=3,\n",
        "    num_columns=None,\n",
        "    batch_shape=None,\n",
        "    dtype=tf.dtypes.float32,\n",
        "    name=None\n",
        ")\n",
        "\n",
        "print(eye_tensor)\n",
        "print(3*eye_tensor)"
      ],
      "metadata": {
        "colab": {
          "base_uri": "https://localhost:8080/"
        },
        "id": "c3q0l8eSGUzb",
        "outputId": "436bc2b1-13be-439c-c7d6-b075c9e630a6"
      },
      "execution_count": null,
      "outputs": [
        {
          "output_type": "stream",
          "name": "stdout",
          "text": [
            "tf.Tensor(\n",
            "[[1. 0. 0.]\n",
            " [0. 1. 0.]\n",
            " [0. 0. 1.]], shape=(3, 3), dtype=float32)\n",
            "tf.Tensor(\n",
            "[[3. 0. 0.]\n",
            " [0. 3. 0.]\n",
            " [0. 0. 3.]], shape=(3, 3), dtype=float32)\n"
          ]
        }
      ]
    },
    {
      "cell_type": "code",
      "source": [
        "eye_tensor = tf.eye(\n",
        "    num_rows=3,\n",
        "    num_columns=2,\n",
        "    batch_shape=[2,4,],\n",
        "    dtype=tf.dtypes.float32,\n",
        "    name=None\n",
        ")\n",
        "\n",
        "print(eye_tensor)"
      ],
      "metadata": {
        "colab": {
          "base_uri": "https://localhost:8080/"
        },
        "id": "yAGniU0oHHgr",
        "outputId": "0bafe952-82f5-4f8c-a60b-52a560ba5e2a"
      },
      "execution_count": null,
      "outputs": [
        {
          "output_type": "stream",
          "name": "stdout",
          "text": [
            "tf.Tensor(\n",
            "[[[[1. 0.]\n",
            "   [0. 1.]\n",
            "   [0. 0.]]\n",
            "\n",
            "  [[1. 0.]\n",
            "   [0. 1.]\n",
            "   [0. 0.]]\n",
            "\n",
            "  [[1. 0.]\n",
            "   [0. 1.]\n",
            "   [0. 0.]]\n",
            "\n",
            "  [[1. 0.]\n",
            "   [0. 1.]\n",
            "   [0. 0.]]]\n",
            "\n",
            "\n",
            " [[[1. 0.]\n",
            "   [0. 1.]\n",
            "   [0. 0.]]\n",
            "\n",
            "  [[1. 0.]\n",
            "   [0. 1.]\n",
            "   [0. 0.]]\n",
            "\n",
            "  [[1. 0.]\n",
            "   [0. 1.]\n",
            "   [0. 0.]]\n",
            "\n",
            "  [[1. 0.]\n",
            "   [0. 1.]\n",
            "   [0. 0.]]]], shape=(2, 4, 3, 2), dtype=float32)\n"
          ]
        }
      ]
    },
    {
      "cell_type": "code",
      "source": [
        "#Fils tensor shape of choice with any value\n",
        "fill_tensor = tf.fill(\n",
        "    [3,4],\n",
        "    5,\n",
        "    name=None\n",
        ")\n",
        "print(fill_tensor)"
      ],
      "metadata": {
        "colab": {
          "base_uri": "https://localhost:8080/"
        },
        "id": "uIWIn3erIJOn",
        "outputId": "88de1130-5caa-4da3-8dc7-1da20768f639"
      },
      "execution_count": null,
      "outputs": [
        {
          "output_type": "stream",
          "name": "stdout",
          "text": [
            "tf.Tensor(\n",
            "[[5 5 5 5]\n",
            " [5 5 5 5]\n",
            " [5 5 5 5]], shape=(3, 4), dtype=int32)\n"
          ]
        }
      ]
    },
    {
      "cell_type": "code",
      "source": [
        "#Fills tensor shape of choice with ones\n",
        "fill_tensor_one = tf.ones(\n",
        "    [5,3,2],\n",
        "    dtype=tf.dtypes.float32,\n",
        "    name=None\n",
        ")\n",
        "tf_cast = tf.c\n",
        "print(fill_tensor_one)"
      ],
      "metadata": {
        "id": "VlebkyWaIlau",
        "colab": {
          "base_uri": "https://localhost:8080/"
        },
        "outputId": "1c2ee854-ede8-48cd-d127-0445e3318f9c"
      },
      "execution_count": null,
      "outputs": [
        {
          "output_type": "stream",
          "name": "stdout",
          "text": [
            "tf.Tensor(\n",
            "[[[1. 1.]\n",
            "  [1. 1.]\n",
            "  [1. 1.]]\n",
            "\n",
            " [[1. 1.]\n",
            "  [1. 1.]\n",
            "  [1. 1.]]\n",
            "\n",
            " [[1. 1.]\n",
            "  [1. 1.]\n",
            "  [1. 1.]]\n",
            "\n",
            " [[1. 1.]\n",
            "  [1. 1.]\n",
            "  [1. 1.]]\n",
            "\n",
            " [[1. 1.]\n",
            "  [1. 1.]\n",
            "  [1. 1.]]], shape=(5, 3, 2), dtype=float32)\n"
          ]
        }
      ]
    },
    {
      "cell_type": "code",
      "source": [
        "fill_tensor_zero = tf.zeros(\n",
        "    [4,2],\n",
        "    dtype=tf.dtypes.float32,\n",
        "    name=None\n",
        ")\n",
        "print(fill_tensor_zero)\n",
        "tf_cast_zero = tf.cast(fill_tensor_zero, dtype=tf.dtypes.bool)\n",
        "print(tf_cast_zero)"
      ],
      "metadata": {
        "colab": {
          "base_uri": "https://localhost:8080/"
        },
        "id": "YzxwlsmQMEX1",
        "outputId": "041c8796-59af-4f37-cee4-adc4c35a605d"
      },
      "execution_count": null,
      "outputs": [
        {
          "output_type": "stream",
          "name": "stdout",
          "text": [
            "tf.Tensor(\n",
            "[[False False]\n",
            " [False False]\n",
            " [False False]\n",
            " [False False]], shape=(4, 2), dtype=bool)\n",
            "tf.Tensor(\n",
            "[[0. 0.]\n",
            " [0. 0.]\n",
            " [0. 0.]\n",
            " [0. 0.]], shape=(4, 2), dtype=float32)\n"
          ]
        }
      ]
    },
    {
      "cell_type": "code",
      "source": [
        "#Creates tensor with shape of input but replace vals with one\n",
        "tensor_ones_like= tf.ones_like(fill_tensor)\n",
        "print(tensor_ones_like)"
      ],
      "metadata": {
        "colab": {
          "base_uri": "https://localhost:8080/"
        },
        "id": "p87NrL0iK_Zm",
        "outputId": "64cc4a14-a8f1-40f1-b6c6-6a0fa1fde5ee"
      },
      "execution_count": null,
      "outputs": [
        {
          "output_type": "stream",
          "name": "stdout",
          "text": [
            "tf.Tensor(\n",
            "[[1 1 1 1]\n",
            " [1 1 1 1]\n",
            " [1 1 1 1]], shape=(3, 4), dtype=int32)\n"
          ]
        }
      ]
    },
    {
      "cell_type": "code",
      "source": [
        "print(tf.shape(tensor_ones_like))"
      ],
      "metadata": {
        "colab": {
          "base_uri": "https://localhost:8080/"
        },
        "id": "T7SzLc2PLg5m",
        "outputId": "df66de15-00e8-4043-f603-46b5abee953a"
      },
      "execution_count": null,
      "outputs": [
        {
          "output_type": "stream",
          "name": "stdout",
          "text": [
            "tf.Tensor([3 4], shape=(2,), dtype=int32)\n"
          ]
        }
      ]
    }
  ]
}